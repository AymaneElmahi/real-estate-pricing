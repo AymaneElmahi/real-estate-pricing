{
 "cells": [
  {
   "attachments": {},
   "cell_type": "markdown",
   "metadata": {},
   "source": [
    "## Image Preprocessing"
   ]
  },
  {
   "cell_type": "code",
   "execution_count": 22,
   "metadata": {},
   "outputs": [
    {
     "name": "stdout",
     "output_type": "stream",
     "text": [
      "tensor([[-0.8960,  1.1506,  0.9418, -0.6109,  0.0220]],\n",
      "       grad_fn=<AddmmBackward0>)\n"
     ]
    }
   ],
   "source": [
    "import torch\n",
    "import torchvision.models as models\n",
    "import torch.nn as nn\n",
    "import torch.nn.functional as F\n",
    "import torchvision.transforms as transforms\n",
    "import PIL.Image as Image\n",
    "\n",
    "\n",
    "# Load the pre-trained ResNet model\n",
    "model = models.resnet18(pretrained=True)\n",
    "\n",
    "# Remove the final fully connected layer\n",
    "model = nn.Sequential(*list(model.children())[:-1])\n",
    "\n",
    "# Freeze the model weights\n",
    "for param in model.parameters():\n",
    "    param.requires_grad = False\n",
    "    \n",
    "# Define a custom classifier\n",
    "class Classifier(nn.Module):\n",
    "    def __init__(self, num_classes):\n",
    "        super(Classifier, self).__init__()\n",
    "        self.fc = nn.Linear(512, num_classes)\n",
    "\n",
    "    def forward(self, x):\n",
    "        x = x.view(x.size(0), -1)\n",
    "        x = self.fc(x)\n",
    "        return x\n",
    "    \n",
    "# Initialize the custom classifier\n",
    "num_classes = 5 # The number of classes you are interested in\n",
    "classifier = Classifier(num_classes)\n",
    "\n",
    "# Define a transform to pre-process the input data\n",
    "transform = transforms.Compose([\n",
    "    transforms.Resize(224),\n",
    "    transforms.CenterCrop(224),\n",
    "    transforms.ToTensor(),\n",
    "    transforms.Normalize(mean=[0.485, 0.456, 0.406],\n",
    "                         std=[0.229, 0.224, 0.225])\n",
    "])\n",
    "\n",
    "# Load an example input image\n",
    "image = Image.open(\"../imagetest.jpg\")\n",
    "\n",
    "# Pre-process the input image\n",
    "input_image = transform(image).unsqueeze(0)\n",
    "\n",
    "# Extract features from the input image\n",
    "features = model(input_image)\n",
    "\n",
    "# Use the custom classifier to make a prediction\n",
    "prediction = classifier(features)\n",
    "\n",
    "# Print the prediction\n",
    "print(prediction)\n",
    "\n"
   ]
  }
 ],
 "metadata": {
  "kernelspec": {
   "display_name": "Python 3",
   "language": "python",
   "name": "python3"
  },
  "language_info": {
   "codemirror_mode": {
    "name": "ipython",
    "version": 3
   },
   "file_extension": ".py",
   "mimetype": "text/x-python",
   "name": "python",
   "nbconvert_exporter": "python",
   "pygments_lexer": "ipython3",
   "version": "3.9.5"
  },
  "orig_nbformat": 4,
  "vscode": {
   "interpreter": {
    "hash": "b58a440e7c41d8e6b23e002dc56fe0c4f343f7392b9b491490b79e5d7e2436cd"
   }
  }
 },
 "nbformat": 4,
 "nbformat_minor": 2
}

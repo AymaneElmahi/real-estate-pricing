{
 "cells": [
  {
   "cell_type": "code",
   "execution_count": 1,
   "id": "66dbfc49",
   "metadata": {
    "ExecuteTime": {
     "end_time": "2023-01-13T15:28:15.702853Z",
     "start_time": "2023-01-13T15:28:15.111164Z"
    }
   },
   "outputs": [],
   "source": [
    "from dataloader.get import DataGetter\n"
   ]
  },
  {
   "cell_type": "markdown",
   "id": "f19c058d",
   "metadata": {},
   "source": [
    "### Initialisation du DataGetter"
   ]
  },
  {
   "cell_type": "code",
   "execution_count": 2,
   "id": "c4e42307",
   "metadata": {
    "ExecuteTime": {
     "end_time": "2023-01-13T15:28:15.718849Z",
     "start_time": "2023-01-13T15:28:15.704854Z"
    }
   },
   "outputs": [],
   "source": [
    "dg=DataGetter()"
   ]
  },
  {
   "cell_type": "markdown",
   "id": "f35cad14",
   "metadata": {},
   "source": [
    "### Chargement lazy des données (sans chargement des images)"
   ]
  },
  {
   "cell_type": "code",
   "execution_count": 3,
   "id": "c78d8f37",
   "metadata": {
    "ExecuteTime": {
     "end_time": "2023-01-13T15:28:17.284837Z",
     "start_time": "2023-01-13T15:28:15.720838Z"
    }
   },
   "outputs": [
    {
     "ename": "KeyboardInterrupt",
     "evalue": "",
     "output_type": "error",
     "traceback": [
      "\u001b[1;31m---------------------------------------------------------------------------\u001b[0m",
      "\u001b[1;31mKeyboardInterrupt\u001b[0m                         Traceback (most recent call last)",
      "Cell \u001b[1;32mIn[3], line 1\u001b[0m\n\u001b[1;32m----> 1\u001b[0m dg\u001b[39m.\u001b[39;49mgetData(\u001b[39m'\u001b[39;49m\u001b[39mtrain\u001b[39;49m\u001b[39m'\u001b[39;49m)\n",
      "File \u001b[1;32mc:\\My Projects\\challengedata.ens.fr-RealEstatePricePrediction\\dataloader\\get.py:26\u001b[0m, in \u001b[0;36mDataGetter.getData\u001b[1;34m(self, test_or_train)\u001b[0m\n\u001b[0;32m     24\u001b[0m \u001b[39mif\u001b[39;00m test_or_train \u001b[39m==\u001b[39m \u001b[39m\"\u001b[39m\u001b[39mtrain\u001b[39m\u001b[39m\"\u001b[39m:\n\u001b[0;32m     25\u001b[0m     df[\u001b[39m'\u001b[39m\u001b[39mprice\u001b[39m\u001b[39m'\u001b[39m] \u001b[39m=\u001b[39m \u001b[39mself\u001b[39m\u001b[39m.\u001b[39mreadTabular()[\u001b[39m'\u001b[39m\u001b[39my_train\u001b[39m\u001b[39m'\u001b[39m][\u001b[39m'\u001b[39m\u001b[39mprice\u001b[39m\u001b[39m'\u001b[39m]\n\u001b[1;32m---> 26\u001b[0m df[\u001b[39m'\u001b[39m\u001b[39mimages\u001b[39m\u001b[39m'\u001b[39m] \u001b[39m=\u001b[39m \u001b[39mself\u001b[39;49m\u001b[39m.\u001b[39;49mreadTabular()[\u001b[39m'\u001b[39;49m\u001b[39mX_\u001b[39;49m\u001b[39m'\u001b[39;49m\u001b[39m+\u001b[39;49mtest_or_train]\u001b[39m.\u001b[39;49mindex\u001b[39m.\u001b[39;49mmap(\u001b[39mlambda\u001b[39;49;00m x: LazyImages(\u001b[39mself\u001b[39;49m\u001b[39m.\u001b[39;49mdata_folder_loc\u001b[39m+\u001b[39;49m\u001b[39m\"\u001b[39;49m\u001b[39m/reduced_images\u001b[39;49m\u001b[39m\"\u001b[39;49m, test_or_train, x))\n\u001b[0;32m     27\u001b[0m \u001b[39mreturn\u001b[39;00m df\n",
      "File \u001b[1;32mc:\\Users\\elmah\\AppData\\Local\\Programs\\Python\\Python39\\lib\\site-packages\\pandas\\core\\indexes\\base.py:6404\u001b[0m, in \u001b[0;36mIndex.map\u001b[1;34m(self, mapper, na_action)\u001b[0m\n\u001b[0;32m   6384\u001b[0m \u001b[39m\"\"\"\u001b[39;00m\n\u001b[0;32m   6385\u001b[0m \u001b[39mMap values using an input mapping or function.\u001b[39;00m\n\u001b[0;32m   6386\u001b[0m \n\u001b[1;32m   (...)\u001b[0m\n\u001b[0;32m   6400\u001b[0m \u001b[39m    a MultiIndex will be returned.\u001b[39;00m\n\u001b[0;32m   6401\u001b[0m \u001b[39m\"\"\"\u001b[39;00m\n\u001b[0;32m   6402\u001b[0m \u001b[39mfrom\u001b[39;00m \u001b[39mpandas\u001b[39;00m\u001b[39m.\u001b[39;00m\u001b[39mcore\u001b[39;00m\u001b[39m.\u001b[39;00m\u001b[39mindexes\u001b[39;00m\u001b[39m.\u001b[39;00m\u001b[39mmulti\u001b[39;00m \u001b[39mimport\u001b[39;00m MultiIndex\n\u001b[1;32m-> 6404\u001b[0m new_values \u001b[39m=\u001b[39m \u001b[39mself\u001b[39;49m\u001b[39m.\u001b[39;49m_map_values(mapper, na_action\u001b[39m=\u001b[39;49mna_action)\n\u001b[0;32m   6406\u001b[0m \u001b[39m# we can return a MultiIndex\u001b[39;00m\n\u001b[0;32m   6407\u001b[0m \u001b[39mif\u001b[39;00m new_values\u001b[39m.\u001b[39msize \u001b[39mand\u001b[39;00m \u001b[39misinstance\u001b[39m(new_values[\u001b[39m0\u001b[39m], \u001b[39mtuple\u001b[39m):\n",
      "File \u001b[1;32mc:\\Users\\elmah\\AppData\\Local\\Programs\\Python\\Python39\\lib\\site-packages\\pandas\\core\\base.py:890\u001b[0m, in \u001b[0;36mIndexOpsMixin._map_values\u001b[1;34m(self, mapper, na_action)\u001b[0m\n\u001b[0;32m    887\u001b[0m         \u001b[39mraise\u001b[39;00m \u001b[39mValueError\u001b[39;00m(msg)\n\u001b[0;32m    889\u001b[0m \u001b[39m# mapper is a function\u001b[39;00m\n\u001b[1;32m--> 890\u001b[0m new_values \u001b[39m=\u001b[39m map_f(values, mapper)\n\u001b[0;32m    892\u001b[0m \u001b[39mreturn\u001b[39;00m new_values\n",
      "File \u001b[1;32mc:\\Users\\elmah\\AppData\\Local\\Programs\\Python\\Python39\\lib\\site-packages\\pandas\\_libs\\lib.pyx:2918\u001b[0m, in \u001b[0;36mpandas._libs.lib.map_infer\u001b[1;34m()\u001b[0m\n",
      "File \u001b[1;32mc:\\My Projects\\challengedata.ens.fr-RealEstatePricePrediction\\dataloader\\get.py:26\u001b[0m, in \u001b[0;36mDataGetter.getData.<locals>.<lambda>\u001b[1;34m(x)\u001b[0m\n\u001b[0;32m     24\u001b[0m \u001b[39mif\u001b[39;00m test_or_train \u001b[39m==\u001b[39m \u001b[39m\"\u001b[39m\u001b[39mtrain\u001b[39m\u001b[39m\"\u001b[39m:\n\u001b[0;32m     25\u001b[0m     df[\u001b[39m'\u001b[39m\u001b[39mprice\u001b[39m\u001b[39m'\u001b[39m] \u001b[39m=\u001b[39m \u001b[39mself\u001b[39m\u001b[39m.\u001b[39mreadTabular()[\u001b[39m'\u001b[39m\u001b[39my_train\u001b[39m\u001b[39m'\u001b[39m][\u001b[39m'\u001b[39m\u001b[39mprice\u001b[39m\u001b[39m'\u001b[39m]\n\u001b[1;32m---> 26\u001b[0m df[\u001b[39m'\u001b[39m\u001b[39mimages\u001b[39m\u001b[39m'\u001b[39m] \u001b[39m=\u001b[39m \u001b[39mself\u001b[39m\u001b[39m.\u001b[39mreadTabular()[\u001b[39m'\u001b[39m\u001b[39mX_\u001b[39m\u001b[39m'\u001b[39m\u001b[39m+\u001b[39mtest_or_train]\u001b[39m.\u001b[39mindex\u001b[39m.\u001b[39mmap(\u001b[39mlambda\u001b[39;00m x: LazyImages(\u001b[39mself\u001b[39;49m\u001b[39m.\u001b[39;49mdata_folder_loc\u001b[39m+\u001b[39;49m\u001b[39m\"\u001b[39;49m\u001b[39m/reduced_images\u001b[39;49m\u001b[39m\"\u001b[39;49m, test_or_train, x))\n\u001b[0;32m     27\u001b[0m \u001b[39mreturn\u001b[39;00m df\n",
      "File \u001b[1;32mc:\\My Projects\\challengedata.ens.fr-RealEstatePricePrediction\\dataloader\\get.py:38\u001b[0m, in \u001b[0;36mLazyImages.__init__\u001b[1;34m(self, folder_loc, test_or_train, id_annonce)\u001b[0m\n\u001b[0;32m     37\u001b[0m \u001b[39mdef\u001b[39;00m \u001b[39m__init__\u001b[39m(\u001b[39mself\u001b[39m, folder_loc, test_or_train, id_annonce):\n\u001b[1;32m---> 38\u001b[0m     \u001b[39mself\u001b[39m\u001b[39m.\u001b[39mpaths \u001b[39m=\u001b[39m [f\u001b[39m.\u001b[39mpath \u001b[39mfor\u001b[39;00m f \u001b[39min\u001b[39;00m os\u001b[39m.\u001b[39;49mscandir(folder_loc\u001b[39m+\u001b[39;49m\u001b[39m\"\u001b[39;49m\u001b[39m/\u001b[39;49m\u001b[39m\"\u001b[39;49m\u001b[39m+\u001b[39;49mtest_or_train\u001b[39m+\u001b[39;49m\u001b[39m\"\u001b[39;49m\u001b[39m/ann_\u001b[39;49m\u001b[39m\"\u001b[39;49m\u001b[39m+\u001b[39;49m\u001b[39mstr\u001b[39;49m(id_annonce))]\n\u001b[0;32m     39\u001b[0m     \u001b[39mself\u001b[39m\u001b[39m.\u001b[39mdata \u001b[39m=\u001b[39m np\u001b[39m.\u001b[39mNaN\n",
      "\u001b[1;31mKeyboardInterrupt\u001b[0m: "
     ]
    }
   ],
   "source": [
    "dg.getData('train')"
   ]
  },
  {
   "cell_type": "code",
   "execution_count": null,
   "id": "56d47420",
   "metadata": {
    "ExecuteTime": {
     "end_time": "2023-01-13T15:28:17.695857Z",
     "start_time": "2023-01-13T15:28:17.290837Z"
    }
   },
   "outputs": [],
   "source": [
    "dg.getData('test')"
   ]
  },
  {
   "cell_type": "markdown",
   "id": "78fd36bc",
   "metadata": {},
   "source": [
    "Rq : pas de colonne price pour le set de test"
   ]
  },
  {
   "cell_type": "markdown",
   "id": "aa09f478",
   "metadata": {},
   "source": [
    "###  Chargement des données (dont les images) via itérateur"
   ]
  },
  {
   "cell_type": "code",
   "execution_count": null,
   "id": "1815772a",
   "metadata": {
    "ExecuteTime": {
     "end_time": "2023-01-13T15:33:26.050626Z",
     "start_time": "2023-01-13T15:33:23.505636Z"
    },
    "scrolled": false
   },
   "outputs": [],
   "source": [
    "import json\n",
    "from skimage import io\n",
    "k=0\n",
    "# id_annonce : Int\n",
    "# X : pd.Series\n",
    "# y : float\n",
    "# images : list(np.array)\n",
    "for id_annonce, X, images, y in dg.iterateLoadedData(\"train\"):\n",
    "    print(f\"{k+1} - L'annonce d'identifiant : f{id_annonce} contient les valeurs : {json.dumps(X.to_dict(), indent=2)} et les images de tailles {[im.shape for im in images]} pour un prix de {y}\")\n",
    "    print(\"Affichage de la première image :\")\n",
    "    io.imshow(images[0])\n",
    "    io.show()\n",
    "    print(\"\\n\\n\")\n",
    "    \n",
    "    k +=1\n",
    "    if k>=5:break"
   ]
  },
  {
   "cell_type": "code",
   "execution_count": null,
   "id": "2216a7cd",
   "metadata": {},
   "outputs": [],
   "source": [
    "import matplotlib.pyplot as plt\n",
    "from LAVIS.get_caption import get_caption\n",
    "\n",
    "def caption_from_image_file(x):\n",
    "    return [get_caption(i) for i in x.load()]\n",
    "\n",
    "df = dg.getData(\"train\")\n",
    "# df['captions'] = df['images'].apply(caption_from_image_file)\n",
    "\n",
    "\n",
    "    \n"
   ]
  },
  {
   "cell_type": "code",
   "execution_count": 47,
   "id": "c1cf8e68",
   "metadata": {},
   "outputs": [
    {
     "data": {
      "text/html": [
       "<div>\n",
       "<style scoped>\n",
       "    .dataframe tbody tr th:only-of-type {\n",
       "        vertical-align: middle;\n",
       "    }\n",
       "\n",
       "    .dataframe tbody tr th {\n",
       "        vertical-align: top;\n",
       "    }\n",
       "\n",
       "    .dataframe thead th {\n",
       "        text-align: right;\n",
       "    }\n",
       "</style>\n",
       "<table border=\"1\" class=\"dataframe\">\n",
       "  <thead>\n",
       "    <tr style=\"text-align: right;\">\n",
       "      <th></th>\n",
       "      <th>index</th>\n",
       "      <th>captions</th>\n",
       "    </tr>\n",
       "  </thead>\n",
       "  <tbody>\n",
       "    <tr>\n",
       "      <th>0</th>\n",
       "      <td>35772577</td>\n",
       "      <td>[['a blurry image of a person walking across a...</td>\n",
       "    </tr>\n",
       "    <tr>\n",
       "      <th>1</th>\n",
       "      <td>35997921</td>\n",
       "      <td>[['a very blurry view of a green street sign, ...</td>\n",
       "    </tr>\n",
       "    <tr>\n",
       "      <th>2</th>\n",
       "      <td>35897205</td>\n",
       "      <td>[['an open balcony is seen from outside near s...</td>\n",
       "    </tr>\n",
       "    <tr>\n",
       "      <th>3</th>\n",
       "      <td>35835335</td>\n",
       "      <td>[['a large white house with lots of windows']]</td>\n",
       "    </tr>\n",
       "    <tr>\n",
       "      <th>4</th>\n",
       "      <td>35999645</td>\n",
       "      <td>[['a sign on a building displays information t...</td>\n",
       "    </tr>\n",
       "    <tr>\n",
       "      <th>...</th>\n",
       "      <td>...</td>\n",
       "      <td>...</td>\n",
       "    </tr>\n",
       "    <tr>\n",
       "      <th>5</th>\n",
       "      <td>35997109</td>\n",
       "      <td>[['a kitchen with a small table, stove and cab...</td>\n",
       "    </tr>\n",
       "    <tr>\n",
       "      <th>6</th>\n",
       "      <td>35734739</td>\n",
       "      <td>[[\"a man's bathroom with some tools hanging fr...</td>\n",
       "    </tr>\n",
       "    <tr>\n",
       "      <th>7</th>\n",
       "      <td>36003641</td>\n",
       "      <td>[['a blurry photo of a house and some grass, a...</td>\n",
       "    </tr>\n",
       "    <tr>\n",
       "      <th>8</th>\n",
       "      <td>36037549</td>\n",
       "      <td>[['blurry image of man taking picture in front...</td>\n",
       "    </tr>\n",
       "    <tr>\n",
       "      <th>9</th>\n",
       "      <td>36013375</td>\n",
       "      <td>[['a picture of some houses near the water, th...</td>\n",
       "    </tr>\n",
       "  </tbody>\n",
       "</table>\n",
       "<p>90 rows × 2 columns</p>\n",
       "</div>"
      ],
      "text/plain": [
       "       index                                           captions\n",
       "0   35772577  [['a blurry image of a person walking across a...\n",
       "1   35997921  [['a very blurry view of a green street sign, ...\n",
       "2   35897205  [['an open balcony is seen from outside near s...\n",
       "3   35835335     [['a large white house with lots of windows']]\n",
       "4   35999645  [['a sign on a building displays information t...\n",
       "..       ...                                                ...\n",
       "5   35997109  [['a kitchen with a small table, stove and cab...\n",
       "6   35734739  [[\"a man's bathroom with some tools hanging fr...\n",
       "7   36003641  [['a blurry photo of a house and some grass, a...\n",
       "8   36037549  [['blurry image of man taking picture in front...\n",
       "9   36013375  [['a picture of some houses near the water, th...\n",
       "\n",
       "[90 rows x 2 columns]"
      ]
     },
     "execution_count": 47,
     "metadata": {},
     "output_type": "execute_result"
    }
   ],
   "source": [
    "\n",
    "from preprocessing.parseOutputs import parseOutputs\n",
    "\n",
    "df_cap = parseOutputs()\n",
    "\n",
    "# rename the columns\n",
    "df_cap.rename(columns={'images': 'captions'}, inplace=True)\n",
    "\n",
    "df_cap\n",
    "\n",
    "\n"
   ]
  },
  {
   "cell_type": "code",
   "execution_count": 48,
   "id": "f9e2e500",
   "metadata": {},
   "outputs": [],
   "source": [
    "# save captions in a csv file\n",
    "df_cap.to_csv(\"captions.csv\", index=False)"
   ]
  }
 ],
 "metadata": {
  "kernelspec": {
   "display_name": "Python 3",
   "language": "python",
   "name": "python3"
  },
  "language_info": {
   "codemirror_mode": {
    "name": "ipython",
    "version": 3
   },
   "file_extension": ".py",
   "mimetype": "text/x-python",
   "name": "python",
   "nbconvert_exporter": "python",
   "pygments_lexer": "ipython3",
   "version": "3.9.0 (tags/v3.9.0:9cf6752, Oct  5 2020, 15:34:40) [MSC v.1927 64 bit (AMD64)]"
  },
  "varInspector": {
   "cols": {
    "lenName": 16,
    "lenType": 16,
    "lenVar": 40
   },
   "kernels_config": {
    "python": {
     "delete_cmd_postfix": "",
     "delete_cmd_prefix": "del ",
     "library": "var_list.py",
     "varRefreshCmd": "print(var_dic_list())"
    },
    "r": {
     "delete_cmd_postfix": ") ",
     "delete_cmd_prefix": "rm(",
     "library": "var_list.r",
     "varRefreshCmd": "cat(var_dic_list()) "
    }
   },
   "types_to_exclude": [
    "module",
    "function",
    "builtin_function_or_method",
    "instance",
    "_Feature"
   ],
   "window_display": false
  },
  "vscode": {
   "interpreter": {
    "hash": "31ff630c6e82ba12fef539dea8022209045e49d81c27e1972fa5386bff428379"
   }
  }
 },
 "nbformat": 4,
 "nbformat_minor": 5
}

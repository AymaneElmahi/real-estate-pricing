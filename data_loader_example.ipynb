{
 "cells": [
  {
   "cell_type": "code",
   "execution_count": null,
   "id": "66dbfc49",
   "metadata": {
    "ExecuteTime": {
     "end_time": "2023-01-13T15:28:15.702853Z",
     "start_time": "2023-01-13T15:28:15.111164Z"
    }
   },
   "outputs": [],
   "source": [
    "from dataloader.get import DataGetter\n"
   ]
  },
  {
   "cell_type": "markdown",
   "id": "f19c058d",
   "metadata": {},
   "source": [
    "### Initialisation du DataGetter"
   ]
  },
  {
   "cell_type": "code",
   "execution_count": null,
   "id": "c4e42307",
   "metadata": {
    "ExecuteTime": {
     "end_time": "2023-01-13T15:28:15.718849Z",
     "start_time": "2023-01-13T15:28:15.704854Z"
    }
   },
   "outputs": [],
   "source": [
    "dg=DataGetter()"
   ]
  },
  {
   "cell_type": "markdown",
   "id": "f35cad14",
   "metadata": {},
   "source": [
    "### Chargement lazy des données (sans chargement des images)"
   ]
  },
  {
   "cell_type": "code",
   "execution_count": null,
   "id": "c78d8f37",
   "metadata": {
    "ExecuteTime": {
     "end_time": "2023-01-13T15:28:17.284837Z",
     "start_time": "2023-01-13T15:28:15.720838Z"
    }
   },
   "outputs": [],
   "source": [
    "dg.getData('train')"
   ]
  },
  {
   "cell_type": "code",
   "execution_count": null,
   "id": "56d47420",
   "metadata": {
    "ExecuteTime": {
     "end_time": "2023-01-13T15:28:17.695857Z",
     "start_time": "2023-01-13T15:28:17.290837Z"
    }
   },
   "outputs": [],
   "source": [
    "dg.getData('test')"
   ]
  },
  {
   "cell_type": "markdown",
   "id": "78fd36bc",
   "metadata": {},
   "source": [
    "Rq : pas de colonne price pour le set de test"
   ]
  },
  {
   "cell_type": "markdown",
   "id": "aa09f478",
   "metadata": {},
   "source": [
    "###  Chargement des données (dont les images) via itérateur"
   ]
  },
  {
   "cell_type": "code",
   "execution_count": null,
   "id": "1815772a",
   "metadata": {
    "ExecuteTime": {
     "end_time": "2023-01-13T15:33:26.050626Z",
     "start_time": "2023-01-13T15:33:23.505636Z"
    },
    "scrolled": false
   },
   "outputs": [],
   "source": [
    "import json\n",
    "from skimage import io\n",
    "k=0\n",
    "# id_annonce : Int\n",
    "# X : pd.Series\n",
    "# y : float\n",
    "# images : list(np.array)\n",
    "for id_annonce, X, images, y in dg.iterateLoadedData(\"train\"):\n",
    "    print(f\"{k+1} - L'annonce d'identifiant : f{id_annonce} contient les valeurs : {json.dumps(X.to_dict(), indent=2)} et les images de tailles {[im.shape for im in images]} pour un prix de {y}\")\n",
    "    print(\"Affichage de la première image :\")\n",
    "    io.imshow(images[0])\n",
    "    io.show()\n",
    "    print(\"\\n\\n\")\n",
    "    \n",
    "    k +=1\n",
    "    if k>=5:break"
   ]
  },
  {
   "cell_type": "code",
   "execution_count": 20,
   "id": "2216a7cd",
   "metadata": {},
   "outputs": [
    {
     "ename": "ModuleNotFoundError",
     "evalue": "No module named 'lavis'",
     "output_type": "error",
     "traceback": [
      "\u001b[1;31m---------------------------------------------------------------------------\u001b[0m",
      "\u001b[1;31mModuleNotFoundError\u001b[0m                       Traceback (most recent call last)",
      "Cell \u001b[1;32mIn[20], line 2\u001b[0m\n\u001b[0;32m      1\u001b[0m \u001b[39mimport\u001b[39;00m \u001b[39mmatplotlib\u001b[39;00m\u001b[39m.\u001b[39;00m\u001b[39mpyplot\u001b[39;00m \u001b[39mas\u001b[39;00m \u001b[39mplt\u001b[39;00m\n\u001b[1;32m----> 2\u001b[0m \u001b[39mfrom\u001b[39;00m \u001b[39mLAVIS\u001b[39;00m\u001b[39m.\u001b[39;00m\u001b[39mget_caption\u001b[39;00m \u001b[39mimport\u001b[39;00m get_caption\n\u001b[0;32m      4\u001b[0m df \u001b[39m=\u001b[39m dg\u001b[39m.\u001b[39mgetData(\u001b[39m\"\u001b[39m\u001b[39mtrain\u001b[39m\u001b[39m\"\u001b[39m)\n\u001b[0;32m      5\u001b[0m df\u001b[39m.\u001b[39mimages\u001b[39m.\u001b[39miloc[:\u001b[39m5\u001b[39m]\u001b[39m.\u001b[39mapply(\u001b[39mlambda\u001b[39;00m x: \u001b[39mlen\u001b[39m(x\u001b[39m.\u001b[39mload()))\n",
      "File \u001b[1;32mc:\\My Projects\\challengedata.ens.fr-RealEstatePricePrediction\\LAVIS\\get_caption.py:4\u001b[0m\n\u001b[0;32m      1\u001b[0m \u001b[39mimport\u001b[39;00m \u001b[39mtorch\u001b[39;00m\n\u001b[0;32m      2\u001b[0m \u001b[39mfrom\u001b[39;00m \u001b[39mPIL\u001b[39;00m \u001b[39mimport\u001b[39;00m Image\n\u001b[1;32m----> 4\u001b[0m \u001b[39mfrom\u001b[39;00m \u001b[39mlavis\u001b[39;00m\u001b[39m.\u001b[39;00m\u001b[39mmodels\u001b[39;00m \u001b[39mimport\u001b[39;00m load_model_and_preprocess\n\u001b[0;32m      6\u001b[0m \u001b[39m# setup device to use\u001b[39;00m\n\u001b[0;32m      7\u001b[0m device \u001b[39m=\u001b[39m torch\u001b[39m.\u001b[39mdevice(\u001b[39m\"\u001b[39m\u001b[39mcuda\u001b[39m\u001b[39m\"\u001b[39m \u001b[39mif\u001b[39;00m torch\u001b[39m.\u001b[39mcuda\u001b[39m.\u001b[39mis_available() \u001b[39melse\u001b[39;00m \u001b[39m\"\u001b[39m\u001b[39mcpu\u001b[39m\u001b[39m\"\u001b[39m)\n",
      "\u001b[1;31mModuleNotFoundError\u001b[0m: No module named 'lavis'"
     ]
    }
   ],
   "source": [
    "import matplotlib.pyplot as plt\n",
    "from LAVIS.get_caption import get_caption\n",
    "\n",
    "df = dg.getData(\"train\")\n",
    "df.images.iloc[:5].apply(lambda x: len(x.load()))\n",
    "\n",
    "def caption_from_image_file(x):\n",
    "    return [get_caption(i) for i in x.load()]\n",
    "\n",
    "    \n"
   ]
  }
 ],
 "metadata": {
  "kernelspec": {
   "display_name": "Python 3",
   "language": "python",
   "name": "python3"
  },
  "language_info": {
   "codemirror_mode": {
    "name": "ipython",
    "version": 3
   },
   "file_extension": ".py",
   "mimetype": "text/x-python",
   "name": "python",
   "nbconvert_exporter": "python",
   "pygments_lexer": "ipython3",
   "version": "3.9.0"
  },
  "varInspector": {
   "cols": {
    "lenName": 16,
    "lenType": 16,
    "lenVar": 40
   },
   "kernels_config": {
    "python": {
     "delete_cmd_postfix": "",
     "delete_cmd_prefix": "del ",
     "library": "var_list.py",
     "varRefreshCmd": "print(var_dic_list())"
    },
    "r": {
     "delete_cmd_postfix": ") ",
     "delete_cmd_prefix": "rm(",
     "library": "var_list.r",
     "varRefreshCmd": "cat(var_dic_list()) "
    }
   },
   "types_to_exclude": [
    "module",
    "function",
    "builtin_function_or_method",
    "instance",
    "_Feature"
   ],
   "window_display": false
  },
  "vscode": {
   "interpreter": {
    "hash": "31ff630c6e82ba12fef539dea8022209045e49d81c27e1972fa5386bff428379"
   }
  }
 },
 "nbformat": 4,
 "nbformat_minor": 5
}

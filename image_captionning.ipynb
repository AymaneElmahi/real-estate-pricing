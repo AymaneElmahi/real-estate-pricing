{
 "cells": [
  {
   "attachments": {},
   "cell_type": "markdown",
   "metadata": {},
   "source": [
    "## Image Captionning"
   ]
  },
  {
   "attachments": {},
   "cell_type": "markdown",
   "metadata": {},
   "source": [
    "### Imports"
   ]
  },
  {
   "cell_type": "code",
   "execution_count": 4,
   "metadata": {},
   "outputs": [],
   "source": [
    "import torch\n",
    "from PIL import Image\n",
    "\n",
    "from lavis.models import load_model_and_preprocess"
   ]
  },
  {
   "cell_type": "code",
   "execution_count": 5,
   "metadata": {},
   "outputs": [],
   "source": [
    "# setup device to use\n",
    "device = torch.device(\"cuda\" if torch.cuda.is_available() else \"cpu\")\n",
    "\n",
    "# we associate a model with its preprocessors to make it easier for inference.\n",
    "model, vis_processors, _ = load_model_and_preprocess(\n",
    "    name=\"blip_caption\", model_type=\"large_coco\", is_eval=True, device=device\n",
    ")\n",
    "# uncomment to use base model\n",
    "# model, vis_processors, _ = load_model_and_preprocess(\n",
    "#     name=\"blip_caption\", model_type=\"base_coco\", is_eval=True, device=device\n",
    "# )\n",
    "vis_processors.keys()\n",
    "\n",
    "def get_caption(image,device):\n",
    "    \n",
    "    raw_image = Image.fromarray(image)\n",
    "    image = vis_processors[\"eval\"](raw_image).unsqueeze(0).to(device)\n",
    "    \n",
    "    # we'll first use beam search to generate a caption\n",
    "    model.generate({\"image\": image})\n",
    "    \n",
    "    # we'll then use nucleus sampling to get multiple captions\n",
    "    # and more precise captions (you can uncomment the line below)\n",
    "    \n",
    "    # model.generate({\"image\": image}, use_nucleus_sampling=True, num_captions=3)\n",
    "    \n",
    "    # store the generated caption in a variable\n",
    "    caption = model.generated_captions[0]\n",
    "    return caption\n",
    "\n",
    "    "
   ]
  }
 ],
 "metadata": {
  "kernelspec": {
   "display_name": "Python 3",
   "language": "python",
   "name": "python3"
  },
  "language_info": {
   "codemirror_mode": {
    "name": "ipython",
    "version": 3
   },
   "file_extension": ".py",
   "mimetype": "text/x-python",
   "name": "python",
   "nbconvert_exporter": "python",
   "pygments_lexer": "ipython3",
   "version": "3.9.0"
  },
  "orig_nbformat": 4,
  "vscode": {
   "interpreter": {
    "hash": "31ff630c6e82ba12fef539dea8022209045e49d81c27e1972fa5386bff428379"
   }
  }
 },
 "nbformat": 4,
 "nbformat_minor": 2
}
